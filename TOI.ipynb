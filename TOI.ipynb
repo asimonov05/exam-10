{
 "cells": [
  {
   "cell_type": "markdown",
   "metadata": {},
   "source": [
    "## 1ый вопрос\n",
    "\n",
    "**Сложность алгоритма. Понятие о сложности алгоритмов. Примеры алгоритмов разной сложности.**"
   ]
  },
  {
   "cell_type": "markdown",
   "metadata": {},
   "source": [
    "**Сложностью алгоритма** называется количество действий в вычислительном процессе этого алгоритма.\n",
    "\n",
    "Сложность определяет **время** выполнения алгоритма (*основная характеристика*) и **объем памяти**, который алгоритм использует.\n",
    "\n",
    "Примеры: **O(n)** *перебор одномерного массива*, **O(n^2)** *перебор двумерного массива*, **O(log(n))** *бинарный поиск*\n",
    "\n",
    "\n",
    "\n"
   ]
  },
  {
   "cell_type": "markdown",
   "metadata": {},
   "source": [
    "## 2ой вопрос\n",
    "\n",
    "**Линейный алгоритм. Решение задачи о поиске максимальной разности.**"
   ]
  },
  {
   "cell_type": "markdown",
   "metadata": {},
   "source": [
    "**Линейные алгоритмы** представляют собой класс алгоритмов,\n",
    "позволяющих решать задачи за линейную сложность *O(n)*,\n",
    "где *n* — размерность задачи.\n",
    "\n",
    "Задача \n",
    "https://informatics.msk.ru/mod/url/view.php?id=64506"
   ]
  },
  {
   "cell_type": "markdown",
   "metadata": {},
   "source": [
    "## 3ий вопрос\n",
    "\n",
    "**Линейный алгоритм. Префиксные суммы. Решение задачи о запросе суммы на отрезке.**\n"
   ]
  },
  {
   "cell_type": "markdown",
   "metadata": {},
   "source": [
    "https://www.youtube.com/watch?v=5iW84xlL0j0&t=585s\n",
    "\n",
    "*Там и понятие и решение задачи*"
   ]
  },
  {
   "cell_type": "markdown",
   "metadata": {},
   "source": [
    "## 4ый вопрос\n",
    "\n",
    "**Линейный поиск. Префиксные суммы. Решение задачи о сумме подряд идущих.**"
   ]
  },
  {
   "cell_type": "code",
   "execution_count": null,
   "metadata": {},
   "outputs": [],
   "source": [
    "a = list(map(int, input().split()))\n",
    "b = [0] * (len(a) + 1)\n",
    "n = int(input())\n",
    "\n",
    "for i in range(len(a)): #заполнение массива префиксных сумм\n",
    "    b[i+1] = b[i] + a[i]\n",
    "\n",
    "max = -99999999\n",
    "for i in range(n,len(b)):\n",
    "    if b[i] - b[i-n] > max:\n",
    "        max = b[i] - b[i-n]\n",
    "print(max)"
   ]
  },
  {
   "cell_type": "markdown",
   "metadata": {},
   "source": [
    "## 5ый вопрос\n",
    "\n",
    "**Линейный поиск. Использование двух указателей. Решение задачи поиска отрезка с максимальной суммой.**"
   ]
  },
  {
   "cell_type": "markdown",
   "metadata": {},
   "source": [
    "https://www.youtube.com/watch?v=J9lxH7Iv7M4\n",
    "\n",
    "*задача там же*"
   ]
  },
  {
   "cell_type": "markdown",
   "metadata": {},
   "source": [
    "## 6ой вопрос\n",
    "\n",
    "**Линейный поиск. Метод двух указателей. Отрезок с заданной суммой**"
   ]
  },
  {
   "cell_type": "markdown",
   "metadata": {},
   "source": [
    "https://www.youtube.com/watch?v=o1u44-2SF8k"
   ]
  },
  {
   "cell_type": "markdown",
   "metadata": {},
   "source": [
    "## 7ой и 8ой вопросы\n",
    "\n",
    "**Линейные структуры данных. Стек. Определение и реализация. Стек с поддержкой минимального элемента. Примеры задач, при решении которых можно использовать стек.**"
   ]
  },
  {
   "cell_type": "markdown",
   "metadata": {},
   "source": [
    "**Линейные структуры данных** – это структуры данных, в которых переход от одного элемента данных к другому не зависит от каких-либо логических условий, т.е. в линейных структурах используются лишь безусловные связи элементов.\n",
    "\n",
    "**Примеры:**\n",
    "*Массив*,\n",
    "*Список*,\n",
    "*Связанный список*,\n",
    "*Стек*,\n",
    "*Очередь*,\n",
    "*Хэш-таблица*,\n",
    "*Дек*,\n",
    "*Граф*.\n",
    "\n",
    "**Стек** — абстрактный тип данных, представляющий собой список элементов, организованных по принципу «последним пришёл — первым вышел».\n",
    "Стек в питоне по школьной программе реализуется списком."
   ]
  },
  {
   "cell_type": "code",
   "execution_count": null,
   "metadata": {},
   "outputs": [],
   "source": [
    "stack = []\n",
    "\n",
    "n = int(input())\n",
    "stack.append(n) # аналог push()\n",
    "print(stack[len(stack)-1]) # аналог top\n",
    "stack.pop() # сам по себе pop\n",
    "print(len(stack)) #аналог size\n",
    "stack = [] # аналог empty лмао"
   ]
  },
  {
   "cell_type": "markdown",
   "metadata": {},
   "source": [
    "*Реализация стека с поддержкой минимального элемента. Идея в том, чтобы хранить не просто элементы, а пары вида (элемент; минимум в стеке, начиная с этого элемента и ниже)*"
   ]
  },
  {
   "cell_type": "code",
   "execution_count": null,
   "metadata": {},
   "outputs": [],
   "source": [
    "n = int(input())\n",
    "stack = []\n",
    "min = 9999999999\n",
    "for i in range(n):\n",
    "    el = int(input())\n",
    "    if el < min:\n",
    "        min = el\n",
    "    stack.append((el,min))"
   ]
  },
  {
   "cell_type": "markdown",
   "metadata": {},
   "source": [
    "*Пример решения задачи на скобочную последовательность*"
   ]
  },
  {
   "cell_type": "code",
   "execution_count": null,
   "metadata": {},
   "outputs": [],
   "source": [
    "open = '({['\n",
    "close = ')}]'\n",
    "stack = []\n",
    "s = input()\n",
    "check = True\n",
    "for el in s:\n",
    "    if el in open:\n",
    "        stack.append(el)\n",
    "    elif el in close:\n",
    "        if len(stack) > 0:\n",
    "            if close.find(el) == open.find(stack[len(stack)-1]):\n",
    "                stack.pop()\n",
    "            else:\n",
    "                check = False\n",
    "                break\n",
    "        else:\n",
    "            check = False\n",
    "            break\n",
    "if check and len(stack) == 0:\n",
    "    print('Correct')\n",
    "else:\n",
    "    print('Incorrect')\n",
    "# парни если я где-то сиранул, то ломаю шмотки"
   ]
  },
  {
   "cell_type": "markdown",
   "metadata": {},
   "source": [
    "*Пример использования стека при подсчетe значения выражения в постфиксной форме.*"
   ]
  },
  {
   "cell_type": "code",
   "execution_count": null,
   "metadata": {},
   "outputs": [],
   "source": [
    "data = input(\"Введите постфиксное выражение:\").split()\n",
    "stack = []\n",
    "f=1\n",
    "for x in data:\n",
    "    if x in \"+-*/\":\n",
    "        if len(stack)<2:\n",
    "            print(\"ERROR\")\n",
    "            f=0\n",
    "            break\n",
    "        op2 = int(stack.pop())\n",
    "        op1 = int(stack.pop())\n",
    "        if   x == \"+\": res = op1 + op2\n",
    "        elif x == \"-\": res = op1 - op2\n",
    "        elif x == \"*\": res = op1 * op2\n",
    "        else:\n",
    "            res = op1 // op2\n",
    "        stack.append(res)\n",
    "    else:\n",
    "        stack.append(x)\n",
    "\n",
    "if len(stack)==1:\n",
    "    print (stack[0])\n",
    "elif f==1:\n",
    "    print(\"ERROR\")\n",
    "# тут код с киберфорума, но вроде все ок"
   ]
  },
  {
   "cell_type": "markdown",
   "metadata": {},
   "source": [
    "## 9ый вопрос\n",
    "\n",
    "**Линейные структуры данных. Очередь. Определение и возможные реализации.**\n"
   ]
  },
  {
   "cell_type": "markdown",
   "metadata": {},
   "source": [
    "**Очередь** — абстрактный тип данных с дисциплиной доступа к элементам «первый пришёл — первый вышел».\n",
    "\n",
    "Реализуется через список, но также можно реализовать через два стека (*кринж*) (один на вход, другой на выход. При обнулении одного стека, все элементы переносятся во второй).\n",
    "**Могут потребовать реализовать очередь через массив и указатели, думаю вы осилите**"
   ]
  },
  {
   "cell_type": "code",
   "execution_count": null,
   "metadata": {},
   "outputs": [],
   "source": [
    "queue = []\n",
    "n = int(input())\n",
    "queue.append(n) # аналог push\n",
    "print(queue[0]) # аналог front\n",
    "queue = queue[1:] # аналог pop\n",
    "print(len(queue)) # аналог size\n",
    "queue = [] # аналог empty\n"
   ]
  },
  {
   "cell_type": "markdown",
   "metadata": {},
   "source": [
    "## 10ый вопрос\n",
    "\n",
    "**Линейные структуры данных. Дек. Определение и логические команды. Стек с поддержкой минимального элемента.**"
   ]
  },
  {
   "cell_type": "markdown",
   "metadata": {},
   "source": [
    "**Дек** (*от англ. deque — double ended queue*) — структура данных, представляющая из себя список элементов, в которой добавление новых элементов и удаление существующих производится с обоих концов."
   ]
  },
  {
   "cell_type": "code",
   "execution_count": null,
   "metadata": {},
   "outputs": [],
   "source": [
    "deque = [1] # создание дека\n",
    "deque.append(2) # аналог push_front\n",
    "deque.insert(0,3) # аналог push_back, 0 - начало дека, 3 - элемент\n",
    "deque.pop() # аналог pop_back\n",
    "deque = deque[1:] # аналог pop_front"
   ]
  },
  {
   "cell_type": "markdown",
   "metadata": {},
   "source": [
    "## 11ый вопрос\n",
    "\n",
    "**Введение в теорию чисел. Арифметика остатков. Задача о нахождении обратного элемента по простому модулю.**"
   ]
  },
  {
   "cell_type": "markdown",
   "metadata": {},
   "source": [
    "**Деление целого числа *a* на целое число *b* (*b > 0*) с остатком** - это представление *a* в виде *b * q + r*, где *r* и *q* - целые числа, *0 <= r < b*. Число *q* называется неполным частным при делении *a* на *b*, а *r* - остатком при делении *a* на *b*.\n",
    "\n",
    "https://www.youtube.com/watch?v=L51Aq1MQfs0 тут чо-то есть "
   ]
  },
  {
   "cell_type": "markdown",
   "metadata": {},
   "source": [
    "## 12ый вопрос\n",
    "\n",
    "**Введение в теорию чисел. НОД и НОК. Различные реализации. Основная теорема арифметики.**"
   ]
  },
  {
   "cell_type": "markdown",
   "metadata": {},
   "source": [
    "**Наибольшим общим делителем (НОД)** для двух целых чисел *m* и *n* называется наибольший из их общих делителей.\n",
    "**Наименьшее общее кратное (НОК)** двух целых чисел *m* и *n* есть наименьшее натуральное число, которое делится на *m* и *n* без остатка, то есть кратно им обоим."
   ]
  },
  {
   "cell_type": "markdown",
   "metadata": {},
   "source": [
    "*Основным способом нахождения НОД является алгоритм Евклида:*"
   ]
  },
  {
   "cell_type": "code",
   "execution_count": null,
   "metadata": {},
   "outputs": [],
   "source": [
    "\n",
    "def gcd_rec(a, b): # рекурсивная реализация\n",
    "    if b == 0: \n",
    "        return a\n",
    "    else:\n",
    "        return gcd_rec(b, a % b)\n",
    "\n",
    "def gcd_cycle(a, b): # реализация через цикл\n",
    "    while a != 0 and b != 0:\n",
    "        if a > b:\n",
    "            a = a % b \n",
    "        else:\n",
    "            b = b % a \n",
    "    return max(a, b)\n",
    "\n",
    "# стоит заметить, что в библиотеке math есть собственная функция gcd"
   ]
  },
  {
   "cell_type": "markdown",
   "metadata": {},
   "source": [
    "**Бинарный способ нахождения НОД**\n",
    "\n",
    "Этот алгоритм сильно упрощает поиск НОД, многократно применяя данные тождества:\n",
    "\n",
    "* **gcd( 0 , v ) = v** , *потому что все делит ноль, а v - наибольшее число, которое делит v.* \n",
    "\n",
    "    *Аналогично* **gcd( u , 0 ) =  u.**\n",
    "\n",
    "* **gcd( 2u , 2v ) = 2 · gcd( u , v )**\n",
    "\n",
    "* **gcd( 2u , v ) = gcd( u , v )**, *если v нечетно (2 не является общим делителем).*\n",
    "\n",
    "    *Аналогично,* **gcd( u , 2v ) = gcd( u , v )** *, если u нечетное.*\n",
    "\n",
    "* **gcd( u , v ) = gcd(| u  -  v |, min( u , v ))***, если u и v оба нечетные.**"
   ]
  },
  {
   "cell_type": "code",
   "execution_count": null,
   "metadata": {},
   "outputs": [],
   "source": [
    "def gcd_bin(a,b):\n",
    "    \n",
    "    # gcd(n,n) = n\n",
    "    if a == b:\n",
    "        return a\n",
    "    \n",
    "    # первое тождество\n",
    "    if a == 0:\n",
    "        return b\n",
    "    if b == 0:\n",
    "        return a\n",
    "\n",
    "    if a % 2 == 0:\n",
    "        if b % 2 == 0: # оба чет\n",
    "            return  2  *  gcd_bin( a / 2 ,  b / 2 )\n",
    "        else:\n",
    "            return  gcd_bin( a / 2 ,  b ) # a чет b нечет\n",
    "    else:\n",
    "        if b % 2 == 0: # a нечет b чет\n",
    "            return  gcd_bin( a ,  b / 2 )\n",
    "        if a > b: #оба нечет, последнее тождество\n",
    "            return  gcd_bin(( a  -  b ) / 2 ,  b )\n",
    "        else:\n",
    "            return  gcd_bin(( b  -  a ) / 2 ,  a )\n"
   ]
  },
  {
   "cell_type": "markdown",
   "metadata": {},
   "source": [
    "*Найти НОК можно по формуле* **(a * b) / НОД(a , b)***.* *Достаточно найти НОД любым из вышеперечисленных алгоритмов.*"
   ]
  },
  {
   "cell_type": "markdown",
   "metadata": {},
   "source": [
    "**Основная теорема арифметики**\n",
    "\n",
    "*Всякое натуральное число отличное от 1, либо простое, либо может быть представлено в виде произведения простых чисел, причем однозначно, если не обращать внимания на порядок следования множителей.* "
   ]
  },
  {
   "cell_type": "code",
   "execution_count": null,
   "metadata": {},
   "outputs": [],
   "source": [
    "def Factor(n):\n",
    "    Ans = []\n",
    "    d = 2\n",
    "    while d * d <= n:\n",
    "        if n % d == 0:\n",
    "            Ans.append(d)\n",
    "            n //= d\n",
    "        else:\n",
    "            d += 1\n",
    "    if n > 1:\n",
    "        Ans.append(n)\n",
    "    return Ans # список протых множителей"
   ]
  },
  {
   "cell_type": "markdown",
   "metadata": {},
   "source": [
    "## 13ый вопрос\n",
    "\n",
    "**Введение в теорию чисел. Реализация бинарного способа нахождения НОД. НОД для многочленов.**"
   ]
  },
  {
   "cell_type": "markdown",
   "metadata": {},
   "source": [
    "Было сегодня на консультации, кратко опишу алгоритм. Пока нету свободных членов мы делим на x, общую степень выносим в НОД, оставшуюся сокращаем. Если появляются свободные члены, складываем или вычитаем из одного многочлена другой (в зависимости от знаков свободных членов). Далее повторяем все по кругу. В итоге мы получим либо два взаимно-простых числа (тогда НОДом будет x в степени, которую мы выносили), либо два равных числа (тогда НОДом будет (степень х которую мы выносили) * (на оставшееся число))\n",
    "\n",
    "*код пишут только лохи*"
   ]
  },
  {
   "cell_type": "markdown",
   "metadata": {},
   "source": [
    "## 14ый вопрос\n",
    "\n",
    "**Введение в теорию чисел. Реализация расширенного алгоритма Евклида. Диофантово уравнение.**"
   ]
  },
  {
   "cell_type": "markdown",
   "metadata": {},
   "source": [
    "В то время как \"обычный\" алгоритм Евклида просто находит наибольший общий делитель двух чисел a и b, **расширенный алгоритм Евклида** находит помимо НОД также коэффициенты x и y такие, что: **ax + by = НОД(a,b)**"
   ]
  },
  {
   "cell_type": "code",
   "execution_count": null,
   "metadata": {},
   "outputs": [],
   "source": [
    "def gcdex(a, b):\n",
    "    if b == 0:\n",
    "        return a, 1, 0\n",
    "    else:\n",
    "        d, x, y = gcdex(b, a % b)\n",
    "        return d, y, x - y * (a // b)\n",
    "# фоксфорд никогда не обманывал, можно верить"
   ]
  },
  {
   "cell_type": "markdown",
   "metadata": {},
   "source": [
    "https://www.youtube.com/watch?v=bxwUlIgCzD8 тут видос есть чтобы разобраться"
   ]
  },
  {
   "cell_type": "markdown",
   "metadata": {},
   "source": [
    "**Про диофантово уравнение лебедев сказал, что достаточно найти одно решение испульзуя расширенный алгоритм Евклида.**"
   ]
  },
  {
   "cell_type": "markdown",
   "metadata": {},
   "source": [
    "## 15ый вопрос\n",
    "\n",
    "**Введение в теорию чисел. Реализация алгоритма «быстрого» возведения в степень.**"
   ]
  },
  {
   "cell_type": "markdown",
   "metadata": {},
   "source": [
    "Данный метод возведения в степень позволяет возвети число в степень гораздо быстрее"
   ]
  },
  {
   "cell_type": "code",
   "execution_count": null,
   "metadata": {},
   "outputs": [],
   "source": [
    "def power(a, n):\n",
    "    if n == 0:\n",
    "        return 1\n",
    "    elif n == 1:\n",
    "        return a\n",
    "    elif n % 2 != 0:\n",
    "        return a * power(a, n-1)\n",
    "    elif n % 2 == 0:\n",
    "        return power(a*a, n/2)\n",
    "\n",
    "\n",
    "a = float(input())\n",
    "n = int(input())\n",
    "print(power(a, n))\n",
    "# киберфорум наше все"
   ]
  },
  {
   "cell_type": "markdown",
   "metadata": {},
   "source": [
    "## 16ый вопрос\n",
    "\n",
    "**Базовые алгоритмы теории чисел. Задача о нахождении наименьшего делителя числа.**"
   ]
  },
  {
   "cell_type": "code",
   "execution_count": null,
   "metadata": {},
   "outputs": [],
   "source": [
    "n = int(input())\n",
    "i = 2\n",
    "while n % i != 0:\n",
    "    i+=1\n",
    "print(i)\n",
    "# думаю так."
   ]
  },
  {
   "cell_type": "markdown",
   "metadata": {},
   "source": [
    "## 17ый вопрос\n",
    "\n",
    "**Базовые алгоритмы теории чисел. Решето Эратосфена. Реализация.**"
   ]
  },
  {
   "cell_type": "markdown",
   "metadata": {},
   "source": [
    "**Решето Эратосфена** — алгоритм нахождения всех простых чисел до некоторого целого числа n"
   ]
  },
  {
   "cell_type": "code",
   "execution_count": null,
   "metadata": {},
   "outputs": [],
   "source": [
    "n = int(input())\n",
    "\n",
    "# список заполняется значениями от 0 до n\n",
    "a = []\n",
    "for i in range(n + 1):\n",
    "    a.append(i)\n",
    "\n",
    "# Вторым элементом является единица,\n",
    "# которую не считают простым числом\n",
    "# забиваем ее нулем.\n",
    "a[1] = 0\n",
    "\n",
    "# начинаем с 3-го элемента\n",
    "i = 2\n",
    "while i <= n:\n",
    "    # Если значение ячейки до этого\n",
    "    # не было обнулено,\n",
    "    # в этой ячейке содержится\n",
    "    # простое число.\n",
    "    if a[i] != 0:\n",
    "        # первое кратное ему\n",
    "        # будет в два раза больше\n",
    "        j = i + i\n",
    "        while j <= n:\n",
    "            # это число составное,\n",
    "            # поэтому заменяем его нулем\n",
    "            a[j] = 0\n",
    "            # переходим к следующему числу,\n",
    "            # которое кратно i\n",
    "            # (оно на i больше)\n",
    "            j = j + i\n",
    "    i += 1\n",
    "\n",
    "# Превращая список во множество,\n",
    "# избавляемся от всех нулей кроме одного.\n",
    "a = set(a)\n",
    "# удаляем ноль\n",
    "a.remove(0)\n",
    "print(a)"
   ]
  },
  {
   "cell_type": "markdown",
   "metadata": {},
   "source": [
    "## 18ый вопрос\n",
    "\n",
    "**Базовые алгоритмы теории чисел. Алгоритм факторизации числа.**"
   ]
  },
  {
   "cell_type": "markdown",
   "metadata": {},
   "source": [
    "Алгоритм описывал в 12 вопросе, самый конец."
   ]
  },
  {
   "cell_type": "markdown",
   "metadata": {},
   "source": [
    "## 19ый вопрос\n",
    "\n",
    "**Базовые алгоритмы теории чисел. Взаимно-простые числа. Функция Эйлера.**"
   ]
  },
  {
   "cell_type": "markdown",
   "metadata": {},
   "source": [
    "**Взаимно-простые** - числа это числа, которые не имеют общих делителей кроме *+-1*\n",
    "\n",
    "**Функция Эйлера φ(n)** — это количество чисел от *1* до *n*, взаимно простых с *n*. Иными словами, это количество таких чисел в отрезке [1; n], наибольший общий делитель которых с *n* равен единице."
   ]
  },
  {
   "cell_type": "code",
   "execution_count": null,
   "metadata": {},
   "outputs": [],
   "source": [
    "from math import gcd\n",
    "\n",
    "def phi(n):\n",
    "    result = 1\n",
    "    for i in range(2, n):\n",
    "        if (gcd(i, n) == 1):\n",
    "            result+=1\n",
    "    return result"
   ]
  },
  {
   "cell_type": "markdown",
   "metadata": {},
   "source": [
    "## 20ый вопрос\n",
    "\n",
    "**Бинарный поиск. Метод реализации. Задача о поиске в отсортированном массиве.**"
   ]
  },
  {
   "cell_type": "markdown",
   "metadata": {},
   "source": [
    "Если исходный массив уже отсортирован, то элемент в нем можно найти гораздо быстрее, если воспользоваться идеей **двоичного (бинарного) поиска**. Идея заключается в делении списка пополам, после чего в зависимости от значения медианного элемента в списке мы переходим либо к левой, либо к правой половине списка. Тем самым, длина части, в которой мы ищем элемент, сокращается в два раза на каждом шаге цикла, а, значит, общая сложность алгоритма двоичного поиска будет *O(log2(n))*."
   ]
  },
  {
   "cell_type": "code",
   "execution_count": null,
   "metadata": {},
   "outputs": [],
   "source": [
    "def search(A, key):\n",
    "# A - sorted\n",
    "# A[left] <= key\n",
    "# A[right] > key\n",
    "\n",
    "    left = -1 # фиктивный элемент минус бесконечность\n",
    "    right = len(A) # фиктивный элемент плюс бесконечность\n",
    "\n",
    "    while right > left + 1: \n",
    "        middle = (left + right) // 2 \n",
    "        if A[middle] > key: \n",
    "            right = middle \n",
    "        else: \n",
    "            left = middle\n",
    "    if left >= 0 and A[left] == key:\n",
    "        return left\n",
    "    else:\n",
    "        return -1"
   ]
  },
  {
   "cell_type": "markdown",
   "metadata": {},
   "source": [
    "## 21ый вопрос\n",
    "\n",
    "**Бинарный поиск. Метод реализации. Задача о нахождении корня монотонной функции на отрезке.**"
   ]
  },
  {
   "cell_type": "code",
   "execution_count": null,
   "metadata": {},
   "outputs": [],
   "source": [
    "# для возрастающей функции\n",
    "\n",
    "def dihotomi1(f, a, b, eps):\n",
    "    left = a # f(left) <= 0\n",
    "    right = b  # f(right) > 0\n",
    "\n",
    "    while right > left + eps: #пока расстояние не станет меньше заданной точности \n",
    "        middle = (left + right) / 2 \n",
    "        if check(f, middle): \n",
    "            left = middle \n",
    "        else: \n",
    "            right = middle\n",
    "    return left # число точно найдется\n",
    "\n",
    "def check(f, x):\n",
    "    return f(x) <= 0"
   ]
  },
  {
   "cell_type": "code",
   "execution_count": null,
   "metadata": {},
   "outputs": [],
   "source": [
    "# для убывающей\n",
    "\n",
    "def dihotomi(f, a, b, eps):\n",
    "  # f(left) * f(right) < 0\n",
    "    left = a \n",
    "    right = b \n",
    "\n",
    "    while right > left + eps: #пока расстояние не станет меньше заданной точности \n",
    "        middle = (left + right) / 2 \n",
    "        if f(middle) * f(right) < 0: \n",
    "            left = middle \n",
    "        else: \n",
    "            right = middle\n",
    "    return left # число точно найдется"
   ]
  },
  {
   "cell_type": "markdown",
   "metadata": {},
   "source": [
    "## 22ой вопрос\n",
    "\n",
    "**Бинарный поиск по ответу. Метод реализации. Пример задач, решаемых с помощью бинарного поиска по ответу.**"
   ]
  },
  {
   "cell_type": "code",
   "execution_count": null,
   "metadata": {},
   "outputs": [],
   "source": [
    "# дипломы\n",
    "\n",
    "w, h, n = list(map(int,input().split()))\n",
    "if w > h:\n",
    "    w, h = h, w\n",
    "i = 1\n",
    "a = h\n",
    "while (a // w) * i * w < n * w:\n",
    "    i+=1\n",
    "    a+=h\n",
    "i = 1\n",
    "b = w\n",
    "while (b // h) * i * h < n * h:\n",
    "    i+=1\n",
    "    b+=w\n",
    "print(min(a,b))"
   ]
  },
  {
   "cell_type": "markdown",
   "metadata": {},
   "source": [
    "## 23ий вопрос\n",
    "\n",
    "**Динамическое программирование. Примеры задач, решаемых с помощью метода линейного динамического программирования.**"
   ]
  },
  {
   "cell_type": "markdown",
   "metadata": {},
   "source": [
    "**Динамическое программирование** — это способ решения сложных задач путём разбиения их на более простые подзадачи. В этом случае время вычислений, по сравнению с «наивными» методами, можно значительно сократить.\n",
    "\n",
    "Примеры задач:"
   ]
  },
  {
   "cell_type": "code",
   "execution_count": null,
   "metadata": {},
   "outputs": [],
   "source": [
    "# нахождение n-ого числа последовательности Фибоначчи\n",
    "def fib(n):\n",
    "    F = [-1]*(n+1)\n",
    "    F[0] = 0\n",
    "    F[1] = 1\n",
    "    for i in range(2, n+1):\n",
    "        F[i] = F[i - 1] + F[i - 2]\n",
    "    return F[n]"
   ]
  },
  {
   "cell_type": "code",
   "execution_count": null,
   "metadata": {},
   "outputs": [],
   "source": [
    "# задача про кузнечика\n",
    "#Кузнечик умеет прыгать на расстояние 1, 2, … , k клеток (то есть длина прыжка кузнечика не превышает k).\n",
    "#Определите, каким числом способов кузнечик может попасть из точки 0 в точку n.\n",
    "n,k = map(int, input().split())\n",
    "F = [0] * (n + 1)\n",
    "F[0] = 1\n",
    "for i in range(1,n+1):\n",
    "    F[i] = sum(F[max(0,i-k):i])\n",
    "print(F[len(F)-1])"
   ]
  },
  {
   "cell_type": "markdown",
   "metadata": {},
   "source": [
    "## 24ый вопрос\n",
    "\n",
    "**Динамическое программирование. Пример задачи, решаемой с помощью метода двумерного динамического программирования.**"
   ]
  },
  {
   "cell_type": "code",
   "execution_count": null,
   "metadata": {},
   "outputs": [],
   "source": [
    "# треугольник паскаля\n",
    "n = int(input())\n",
    "\n",
    "m = []\n",
    "for _ in range(n+1):\n",
    "    m.append([1 for _ in range(n+1)])\n",
    "\n",
    "for i in range(2,n+1):\n",
    "    for j in range(1, i-1):\n",
    "        m[i][j] = m[i-1][j] + m[i-1][j-1]\n",
    "\n",
    "for i in range(n+1):\n",
    "    for j in range(i):\n",
    "        print(m[i][j], end = ' ')\n",
    "    print('')"
   ]
  },
  {
   "cell_type": "markdown",
   "metadata": {},
   "source": [
    "## 26ой вопрос\n",
    "\n",
    "**Рекурсивный перебор. Задача о получении двоичной последовательности с ограничением на количество 1.**"
   ]
  },
  {
   "cell_type": "code",
   "execution_count": null,
   "metadata": {},
   "outputs": [],
   "source": [
    "def find00(a):\n",
    "    for i in range(len(a) - 1, -1, -1):\n",
    "        if i == a[i] == 0 or a[i] == 0 == a[i-1]:\n",
    "            return i\n",
    "    return -1\n",
    "\n",
    "\n",
    "n = int(input())\n",
    "a = [0] * n\n",
    "print(*a)\n",
    "i = n - 1\n",
    "while \"00\" in \"\".join(list(map(str, a))):\n",
    "    while i > -1:\n",
    "        i = find00(a)\n",
    "        if i == -1:\n",
    "            break\n",
    "        a[i] = 1\n",
    "        for z in range(n - 1, i, -1):\n",
    "            a[z] = 0\n",
    "        print(*a)\n",
    "if n == 1:\n",
    "    print(1)"
   ]
  },
  {
   "cell_type": "markdown",
   "metadata": {},
   "source": [
    "## 28ой вопрос\n",
    "\n",
    "**Графы. Определения и способы задания. Переход от одного способа задания к другому.**"
   ]
  },
  {
   "cell_type": "markdown",
   "metadata": {},
   "source": [
    "**Граф** — множество вершин и соединяющих их их рёбер.\n",
    "\n",
    "*В списке вопросов этого нету, но вполне могут спросить я думаю:*\n",
    "\n",
    "**Ориентированный граф** — граф, в котором у всех рёбер есть направления.\n",
    "\n",
    "**Взвешенный граф** — граф, каждому ребру которого поставлено в соответствие некое значение (вес ребра, длина, время).\n",
    "\n",
    "**Основными способами хранения графа являются:**\n",
    "\n",
    "* *Матрица смежности.*\n",
    "\n",
    "* *Списки или множества смежности (смежных вершин).*\n",
    "\n",
    "* *Список ребер.*\n"
   ]
  },
  {
   "cell_type": "markdown",
   "metadata": {},
   "source": [
    "Переход есть в презентухе: https://docs.google.com/presentation/d/1IFGX_P1ZJ2GFmljWMQPzAKGq9rC_nwK_DwwLKtOybHM/edit#slide=id.g6dfe2c43fd_0_8"
   ]
  },
  {
   "cell_type": "markdown",
   "metadata": {},
   "source": [
    "## 29ый вопрос\n",
    "\n",
    "**Графы. Определения и способы задания. Подсчет основных характеристик графа.**"
   ]
  },
  {
   "cell_type": "markdown",
   "metadata": {},
   "source": [
    "## 30ый вопрос\n",
    "\n",
    "**Графы. Метод обхода графа в ширину. Пример задачи, решаемой методом BFS.**\n"
   ]
  },
  {
   "cell_type": "markdown",
   "metadata": {},
   "source": [
    "**Алгоритм поиска в ширину** (*англ. breadth-first search, BFS*) позволяет найти кратчайшие пути из одной вершины невзвешенного (ориентированного или неориентированного) графа до всех остальных вершин. Под кратчайшим путем подразумевается путь, содержащий наименьшее число ребер.\n",
    "\n",
    "Маст-рид: https://docs.google.com/presentation/d/1XcwZ0AjOZ_IxQ4Z4VBrIeIvy2S_RdYewuUa4BMTNth4/edit#slide=id.g6ef71e4990_0_569"
   ]
  },
  {
   "cell_type": "markdown",
   "metadata": {},
   "source": [
    "## 31ый вопрос\n",
    "\n",
    "**Графы. Метод обхода графа в глубину. Пример задачи, решаемой методом DFS.**"
   ]
  },
  {
   "cell_type": "markdown",
   "metadata": {},
   "source": [
    "**Алгоритм поиска (или обхода) в глубину** (*англ. depth-first search, DFS*) позволяет построить обход ориентированного или неориентированного графа, при котором посещаются все вершины, доступные из начальной вершины.\n",
    "\n",
    "Маст-рид: https://docs.google.com/presentation/d/1TwxkFoyjB72d4yUULHopE8Fao2dGo5K4MqZHD-hNrv8/edit#slide=id.g4ae5c9c325_0_81\n"
   ]
  },
  {
   "cell_type": "code",
   "execution_count": null,
   "metadata": {},
   "outputs": [],
   "source": [
    "def dfs(visited, graph, node): #классический DFS\n",
    "    if node not in visited:\n",
    "        print(node)\n",
    "        visited.add(node)\n",
    "        for neighbour in graph[node]:\n",
    "            dfs(visited, graph, neighbour)\n",
    "\n",
    "\n",
    "graph = {\n",
    "'5' : ['3','7'],\n",
    "'3' : ['2', '4'],\n",
    "'7' : ['8'],\n",
    "'2' : [],\n",
    "'4' : ['8'],\n",
    "'8' : []\n",
    "}\n",
    "\n",
    "visited = set() # Set to keep track of visited nodes of graph.\n",
    "\n",
    "# Driver Code\n",
    "dfs(visited, graph, '5')"
   ]
  }
 ],
 "metadata": {
  "interpreter": {
   "hash": "67c9398dee904154bf9c50ef3b0c3541f9c2d10ed0a7cf11e30032ae91fa3516"
  },
  "kernelspec": {
   "display_name": "Python 3.9.2 64-bit",
   "language": "python",
   "name": "python3"
  },
  "language_info": {
   "codemirror_mode": {
    "name": "ipython",
    "version": 3
   },
   "file_extension": ".py",
   "mimetype": "text/x-python",
   "name": "python",
   "nbconvert_exporter": "python",
   "pygments_lexer": "ipython3",
   "version": "3.9.2"
  },
  "orig_nbformat": 4
 },
 "nbformat": 4,
 "nbformat_minor": 2
}
